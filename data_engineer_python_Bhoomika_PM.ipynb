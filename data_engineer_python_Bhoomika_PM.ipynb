{
  "nbformat": 4,
  "nbformat_minor": 0,
  "metadata": {
    "kernelspec": {
      "display_name": "Python 3",
      "language": "python",
      "name": "python3"
    },
    "language_info": {
      "codemirror_mode": {
        "name": "ipython",
        "version": 3
      },
      "file_extension": ".py",
      "mimetype": "text/x-python",
      "name": "python",
      "nbconvert_exporter": "python",
      "pygments_lexer": "ipython3",
      "version": "3.7.6"
    },
    "colab": {
      "provenance": []
    }
  },
  "cells": [
    {
      "cell_type": "markdown",
      "metadata": {
        "id": "0VAs33LescP2"
      },
      "source": [
        "This test consits of twenty problems divided among six separated sections. You are required to write your code in cell below each problem and output the result in cell next to it"
      ]
    },
    {
      "cell_type": "markdown",
      "metadata": {
        "id": "-x5KVXC4scPv"
      },
      "source": [
        "DATA ENGINEER - PYTHON"
      ]
    },
    {
      "cell_type": "markdown",
      "metadata": {
        "id": "dOODaafpscP3"
      },
      "source": [
        "**Total Time**: 4 hours <br>\n",
        "**Maximum Marks**: 150"
      ]
    },
    {
      "cell_type": "markdown",
      "source": [
        "**STACK CHOICE**<br>\n",
        "You can choose to code in either of the two stacks below\n",
        "\n"
      ],
      "metadata": {
        "id": "M8cbjalyhT-4"
      }
    },
    {
      "cell_type": "markdown",
      "source": [
        "**STACK A**: Python3"
      ],
      "metadata": {
        "id": "2qtogMMohiP8"
      }
    },
    {
      "cell_type": "markdown",
      "source": [
        "**NOTE 1**: You must code in Python3 <br>\n",
        "**NOTE 2**: You should code in functional programming paradigm (lamda, map, reduce, filter etc). This is not mandatory, however, highly desired <br>\n",
        "**NOTE 3**: You must keep path, paramaters & variables as dynamic (don't hardcode them) <br>\n",
        "**NOTE 4**: You can use 'for loops' or any loop whatsoever, however, it would be desired if you can avoid them <br>\n",
        "**NOTE 5**: You can remove code statements related to PySpark3, if happen to choose this stack for coding"
      ],
      "metadata": {
        "id": "BaUnmZYrh_25"
      }
    },
    {
      "cell_type": "markdown",
      "source": [
        "**------------------------------------------------------------------------------ OR ------------------------------------------------------------------------------**"
      ],
      "metadata": {
        "id": "rcJ_CvG-itRO"
      }
    },
    {
      "cell_type": "markdown",
      "source": [
        "**STACK B**: PySpark3"
      ],
      "metadata": {
        "id": "WukJ_A0EhYYv"
      }
    },
    {
      "cell_type": "markdown",
      "metadata": {
        "id": "LiGYw_q0scP3"
      },
      "source": [
        "**NOTE 1**: You must code in PySpark3 <br>\n",
        "**NOTE 2**: You must code in functional programming paradigm (lamda, map, reduce, filter etc) <br>\n",
        "**NOTE 3**: You must keep path, paramaters & variables as dynamic (don't hardcode them) <br>\n",
        "**NOTE 4**: You strictly can't use 'for loops' or any loop whatsoever"
      ]
    },
    {
      "cell_type": "markdown",
      "metadata": {
        "id": "WCqPOAdWscP4"
      },
      "source": [
        "Rename and Save the notebook as data-engineer-python_firstname-lastname (eg. data-engineer-python_sahil-gupta.ipynb)"
      ]
    },
    {
      "cell_type": "markdown",
      "metadata": {
        "id": "CNz-9PxIscP5"
      },
      "source": [
        "Your FullName: <br>\n",
        "Your Email: <br>\n",
        "Your Mobile No:"
      ]
    },
    {
      "cell_type": "markdown",
      "metadata": {
        "id": "d5A0Lpj_scP5"
      },
      "source": [
        "********************************************* Test starts here **************************************************"
      ]
    },
    {
      "cell_type": "markdown",
      "metadata": {
        "id": "9JDFYWyDscP5"
      },
      "source": [
        "**DATASETS**:\n",
        "\n",
        "1. folder 'sales' *(consists of eight CSVs corresponding to sales database)*\n",
        "2. orchestra.json\n",
        "3. orchestra.xml\n",
        "4. sms.txt"
      ]
    },
    {
      "cell_type": "markdown",
      "metadata": {
        "id": "KOXA0balscP6"
      },
      "source": [
        "**INSTRUCTIONS**:\n",
        "\n",
        "1. You are required to download and import datasets mentioned above\n",
        "2. You would need to understand business involved behind sales database tables (eight). This is important!\n",
        "3. Either your code should output something or leave the original comment \"#pyspark3 code here\" AS IT IS. We shall use 'Run All' in notebook and it shouldn't result an error\n",
        "4. Test the entire notebook before uploading to Google Form provided\n",
        "5. You can use any library in Python3/PySpark3 (untill unless prohibited to use for a paticular problem)\n",
        "6. Output fieldname to be displayed are marked as single quotes ' ' in problem statement. You should use same field alias names whereever required\n",
        "7. Notation for dataframe and/or array must be local to a problem's solution. Eg. Dataframe \"test\" for problem 8 should be df_prb8_test"
      ]
    },
    {
      "cell_type": "code",
      "metadata": {
        "id": "iuYjjiZmzcMz"
      },
      "source": [
        "#pyspark installation command - uncomment, install and comment back\n",
        "#!pip install pyspark"
      ],
      "execution_count": 15,
      "outputs": []
    },
    {
      "cell_type": "code",
      "metadata": {
        "id": "JcuuflXQRUb8"
      },
      "source": [
        "#intall remaining required libraries - uncomment, install and comment back\n",
        "#!pip install sklearn"
      ],
      "execution_count": 14,
      "outputs": []
    },
    {
      "cell_type": "code",
      "metadata": {
        "id": "Zpo3R0kJscP8"
      },
      "source": [
        "#import numpy as np\n",
        "#import pandas as pd\n",
        "#import sklearn\n",
        "#import remaining libraries here"
      ],
      "execution_count": 13,
      "outputs": []
    },
    {
      "cell_type": "code",
      "metadata": {
        "id": "ClvtMDAg7Kr1"
      },
      "source": [
        "#import pyspark\n",
        "#from pyspark.context import SparkContext"
      ],
      "execution_count": 11,
      "outputs": []
    },
    {
      "cell_type": "code",
      "metadata": {
        "id": "M2yEB8L0MA4d"
      },
      "source": [
        "#comment for first run\n",
        "#sc.stop()"
      ],
      "execution_count": 12,
      "outputs": []
    },
    {
      "cell_type": "code",
      "metadata": {
        "id": "ICqI0kWA6Sig"
      },
      "source": [
        "#you can modify configuration values\n",
        "#conf = pyspark.SparkConf().setAppName(\"App\")\n",
        "#conf = (\n",
        "#         conf.setMaster('local')\n",
        "#        .set('spark.driver.memory', '8G')\n",
        "#        .set('spark.driver.cores', '8')\n",
        "#        .set('spark.python.worker.memory', '4G')\n",
        "#        .set('spark.worker.cores', '2')\n",
        "#        .set('spark.workerEnv.SPARK_WORKER_INSTANCES', '4')\n",
        "#        .set('spark.executor.instances', '8')\n",
        "#       )\n",
        "#\n",
        "#sc = pyspark.SparkContext(conf=conf)"
      ],
      "execution_count": 9,
      "outputs": []
    },
    {
      "cell_type": "code",
      "metadata": {
        "id": "vus4Qa__scP-"
      },
      "source": [
        "#import CSVs (eight) here\n",
        "#import JSONs (one) here\n",
        "#import XMLs (one) here\n",
        "#import TXT (one) here"
      ],
      "execution_count": 10,
      "outputs": []
    },
    {
      "cell_type": "markdown",
      "metadata": {
        "id": "O62-2CeQscP-"
      },
      "source": [
        "**SCORING**:\n",
        "\n",
        "This assessment is broadly divided into six sections A,B,C,D,E&F. All sections are mandatory\n",
        "\n",
        "**Section A**: 30 marks <br>\n",
        "**Section B**: 15 marks <br>\n",
        "**Section C**: 15 marks <br>\n",
        "**Section D**: 25 marks <br>\n",
        "**Section E**: 15 marks <br>\n",
        "**Section F**: 50 marks"
      ]
    },
    {
      "cell_type": "markdown",
      "metadata": {
        "id": "77P24RdzscP_"
      },
      "source": [
        "************************************************ SECTION: A begins *******************************************"
      ]
    },
    {
      "cell_type": "markdown",
      "metadata": {
        "id": "8pkGLXYNscP_"
      },
      "source": [
        "Refer & Use sales database tables (eight CSVs) to answer problem 1-5 below. <br> You cannot use any library that allows you to query pandas/pyspark DataFrames using SQL syntax. This means you would need to write code in python/pyspark, not SQL"
      ]
    },
    {
      "cell_type": "markdown",
      "metadata": {
        "id": "H_JI60i5scQA"
      },
      "source": [
        "**PROBLEM 1**: Fetch the product(s) - with product description consisting of \"Universal fit, well-vented\" and meet the condition c1\n",
        "\n",
        "------\n",
        "condition c1 - product had been ordered more than five times within a month \"continously\" over months\n",
        "\n",
        "continously means \"month after month\" this condition c1 had been met\n",
        "\n",
        "Eg. IF (in jan 2016 that particular product had been ordered more than five times, in feb 2016 too, in mar 2016 too, however, in apr 2016 this product had not been ordered more than five times, no matter again in may 2016 it had been again ordered more than five times) --- condition c1 stands failed"
      ]
    },
    {
      "cell_type": "code",
      "metadata": {
        "id": "0D1TfefGscQA"
      },
      "source": [
        "#python3/pyspark3 code here\n",
        "import csv\n",
        "from datetime import datetime\n",
        "\n",
        "# Function to parse date strings\n",
        "def parse_date(date_str):\n",
        "    return datetime.strptime(date_str, '%m-%d-%Y')\n",
        "\n",
        "# Read the CSV data\n",
        "csv_file_path = 'datasets/sales/.csv'\n",
        "with open(csv_file_path, 'r') as file:\n",
        "    reader = csv.DictReader(file)\n",
        "    data = list(reader)\n",
        "\n",
        "# Parse dates and filter products with the specified description\n",
        "filtered_data = [row for row in data if \"Universal fit, well-vented\" in row['ProductDescription']]\n",
        "for row in filtered_data:\n",
        "    row['OrderDate'] = parse_date(row['OrderDate'])\n",
        "\n",
        "# Group data by ProductKey and month\n",
        "grouped_data = {}\n",
        "for row in filtered_data:\n",
        "    key = (row['ProductKey'], row['OrderDate'].strftime('%Y-%m'))\n",
        "    if key not in grouped_data:\n",
        "        grouped_data[key] = []\n",
        "    grouped_data[key].append(row)\n",
        "\n",
        "# Check if the condition c1 is met for each product\n",
        "result = []\n",
        "for key, group in grouped_data.items():\n",
        "    if len(group) > 5:\n",
        "        result.append(group)\n",
        "\n",
        "# Print the result or further process as needed\n",
        "print(result)\n",
        "# Continue from the previous code\n",
        "\n",
        "# Parse dates for the remaining rows\n",
        "for row in data:\n",
        "    row['OrderDate'] = parse_date(row['OrderDate'])\n",
        "\n",
        "# Combine the remaining data with the filtered data\n",
        "all_data = filtered_data + [row for row in data if row not in filtered_data]\n",
        "\n",
        "# Group data by ProductKey and month for all data\n",
        "all_grouped_data = {}\n",
        "for row in all_data:\n",
        "    key = (row['ProductKey'], row['OrderDate'].strftime('%Y-%m'))\n",
        "    if key not in all_grouped_data:\n",
        "        all_grouped_data[key] = []\n",
        "    all_grouped_data[key].append(row)\n",
        "\n",
        "# Check if the condition c1 is met for each product in all data\n",
        "result_all = []\n",
        "for key, group in all_grouped_data.items():\n",
        "    if len(group) > 5:\n",
        "        result_all.append(group)\n",
        "\n",
        "# Filter only the rows that meet the condition c1\n",
        "final_result = [row for row in result_all if row[0] in result]\n",
        "\n",
        "# Print the final result or further process as needed\n",
        "for row in final_result:\n",
        "    print(row)\n",
        "# Continue from the previous code\n",
        "\n",
        "# Check if the condition c1 is met for each product in all data\n",
        "result_all = []\n",
        "for key, group in all_grouped_data.items():\n",
        "    if len(group) > 5:\n",
        "        result_all.append(group)\n",
        "\n",
        "# Filter only the rows that meet the condition c1\n",
        "final_result = [row for row in result_all if row[0][1] in result]\n",
        "\n",
        "# Print the final result or further process as needed\n",
        "for row in final_result:\n",
        "    print(row)\n",
        "# Continue from the previous code\n",
        "\n",
        "# Parse dates for the remaining rows\n",
        "for row in data:\n",
        "    row['OrderDate'] = parse_date(row['OrderDate'])\n",
        "\n",
        "# Combine the remaining data with the filtered data\n",
        "all_data = filtered_data + [row for row in data if row not in filtered_data]\n",
        "\n",
        "# Group data by ProductKey and month for all data\n",
        "all_grouped_data = {}\n",
        "for row in all_data:\n",
        "    key = (row['ProductKey'], row['OrderDate'].strftime('%Y-%m'))\n",
        "    if key not in all_grouped_data:\n",
        "        all_grouped_data[key] = []\n",
        "    all_grouped_data[key].append(row)\n",
        "\n",
        "# Check if the condition c1 is met for each product in all data\n",
        "result_all = []\n",
        "for key, group in all_grouped_data.items():\n",
        "    if len(group) > 5:\n",
        "        result_all.append(group)\n",
        "\n",
        "# Filter only the rows that meet the condition c1\n",
        "final_result = [row for row in result_all if row[0][1] in result]\n",
        "\n",
        "# Print the final result or further process as needed\n",
        "for row in final_result:\n",
        "    print(row)\n",
        "# Continue from the previous code\n",
        "\n",
        "# Parse dates for the remaining rows\n",
        "for row in data:\n",
        "    row['OrderDate'] = parse_date(row['OrderDate'])\n",
        "\n",
        "# Combine the remaining data with the filtered data\n",
        "all_data = filtered_data + [row for row in data if row not in filtered_data]\n",
        "\n",
        "# Group data by ProductKey and month for all data\n",
        "all_grouped_data = {}\n",
        "for row in all_data:\n",
        "    key = (row['ProductKey'], row['OrderDate'].strftime('%Y-%m'))\n",
        "    if key not in all_grouped_data:\n",
        "        all_grouped_data[key] = []\n",
        "    all_grouped_data[key].append(row)\n",
        "\n",
        "# Check if the condition c1 is met for each product in all data\n",
        "result_all = []\n",
        "for key, group in all_grouped_data.items():\n",
        "    if len(group) > 5:\n",
        "        result_all.append(group)\n",
        "\n",
        "# Filter only the rows that meet the condition c1\n",
        "final_result = [row for row in result_all if row[0][1] in result]\n",
        "\n",
        "# Print the final result or further process as needed\n",
        "for row in final_result:\n",
        "    print(row)\n",
        "from datetime import datetime\n",
        "\n",
        "# Your data goes here\n",
        "data = [\n",
        "    # ... (include the additional data you provided)\n",
        "]\n",
        "\n",
        "# Combine the remaining data with the filtered data\n",
        "all_data = filtered_data + [row for row in data if row not in filtered_data]\n",
        "\n",
        "# Group data by ProductKey and month for all data\n",
        "all_grouped_data = {}\n",
        "for row in all_data:\n",
        "    key = (row['ProductKey'], row['OrderDate'].strftime('%Y-%m'))\n",
        "    if key not in all_grouped_data:\n",
        "        all_grouped_data[key] = []\n",
        "    all_grouped_data[key].append(row)\n",
        "\n",
        "# Check if the condition c1 is met for each product in all data\n",
        "result_all = []\n",
        "for key, group in all_grouped_data.items():\n",
        "    if len(group) > 5:\n",
        "        result_all.append(group)\n",
        "\n",
        "# Filter only the rows that meet the condition c1\n",
        "final_result = [row for row in result_all if row[0][1] in result]\n",
        "\n",
        "# Print the final result or further process as needed\n",
        "for row in final_result:\n",
        "    print(row)\n",
        "# Append the new data to the existing data\n",
        "new_data = [\n",
        "    # ... (include the new data you provided)\n",
        "]\n",
        "\n",
        "all_data += new_data\n",
        "\n",
        "# Group data by ProductKey and month for all data\n",
        "all_grouped_data = {}\n",
        "for row in all_data:\n",
        "    key = (row['ProductKey'], row['OrderDate'].strftime('%Y-%m'))\n",
        "    if key not in all_grouped_data:\n",
        "        all_grouped_data[key] = []\n",
        "    all_grouped_data[key].append(row)\n",
        "\n",
        "# Check if the condition c1 is met for each product in all data\n",
        "result_all = []\n",
        "for key, group in all_grouped_data.items():\n",
        "    if len(group) > 5:\n",
        "        result_all.append(group)\n",
        "\n",
        "# Filter only the rows that meet the condition c1\n",
        "final_result = [row for row in result_all if row[0][1] in result]\n",
        "\n",
        "# Print the final result or further process as needed\n",
        "for row in final_result:\n",
        "    print(row)\n",
        "# Append the latest data to the existing data\n",
        "latest_data = [\n",
        "    # ... (include the new data you provided)\n",
        "]\n",
        "\n",
        "all_data += latest_data\n",
        "\n",
        "# Group data by ProductKey and month for all data\n",
        "all_grouped_data = {}\n",
        "for row in all_data:\n",
        "    key = (row['ProductKey'], row['OrderDate'].strftime('%Y-%m'))\n",
        "    if key not in all_grouped_data:\n",
        "        all_grouped_data[key] = []\n",
        "    all_grouped_data[key].append(row)\n",
        "\n",
        "# Check if the condition c1 is met for each product in all data\n",
        "result_all = []\n",
        "for key, group in all_grouped_data.items():\n",
        "    if len(group) > 5:\n",
        "        result_all.append(group)\n",
        "\n",
        "# Filter only the rows that meet the condition c1\n",
        "final_result = [row for row in result_all if row[0][1] in result]\n",
        "\n",
        "# Print the final result or further process as needed\n",
        "for row in final_result:\n",
        "    print(row)\n",
        "# Append the latest data to the existing data\n",
        "latest_data = [\n",
        "    # ... (include the new data you provided)\n",
        "]\n",
        "\n",
        "all_data += latest_data\n",
        "\n",
        "# Group data by ProductKey and month for all data\n",
        "all_grouped_data = {}\n",
        "for row in all_data:\n",
        "    key = (row['ProductKey'], row['OrderDate'].strftime('%Y-%m'))\n",
        "    if key not in all_grouped_data:\n",
        "        all_grouped_data[key] = []\n",
        "    all_grouped_data[key].append(row)\n",
        "\n",
        "# Check if the condition c1 is met for each product in all data\n",
        "result_all = []\n",
        "for key, group in all_grouped_data.items():\n",
        "    if len(group) > 5:\n",
        "        result_all.append(group)\n",
        "\n",
        "# Filter only the rows that meet the condition c1\n",
        "final_result = [row for row in result_all if row[0][1] in result]\n",
        "\n",
        "# Print the final result or further process as needed\n",
        "for row in final_result:\n",
        "    print(row)\n",
        "\n"
      ],
      "execution_count": null,
      "outputs": []
    },
    {
      "cell_type": "markdown",
      "metadata": {
        "id": "-f1bPomVscQB"
      },
      "source": [
        "**PROBLEM 2**: Fetch total orders made by married male customers belonging to Central America occupied in a clerical job"
      ]
    },
    {
      "cell_type": "code",
      "metadata": {
        "id": "zSoOj63escQB"
      },
      "source": [
        "#python3/pyspark3 code here\n",
        "\n"
      ],
      "execution_count": null,
      "outputs": []
    },
    {
      "cell_type": "markdown",
      "metadata": {
        "id": "uZQxb5dGscQC"
      },
      "source": [
        "**PROBLEM 3**: List customers who ordered same product more than once in a month"
      ]
    },
    {
      "cell_type": "code",
      "metadata": {
        "id": "1aejdSQxscQC"
      },
      "source": [
        "#python3/pyspark3 code here"
      ],
      "execution_count": null,
      "outputs": []
    },
    {
      "cell_type": "code",
      "source": [],
      "metadata": {
        "id": "XyLE9EnmQY-u"
      },
      "execution_count": null,
      "outputs": []
    },
    {
      "cell_type": "markdown",
      "metadata": {
        "id": "eNtpSDPZscQC"
      },
      "source": [
        "**PROBLEM 4**: Supose Today is May 23, 2016. Display month-to-date count of returned orders <br>\n",
        "NOTE: Month-to-date is a period starting at the beginning of the current month and ending at the current date. If today's date is May 23, 2016, then month-to-date shall be period between inclusive of May 01,2016 and May 23,2016"
      ]
    },
    {
      "cell_type": "code",
      "metadata": {
        "id": "pLNa3WiWscQC"
      },
      "source": [
        "#python3/pyspark3 code here\n",
        "SELECT COUNT(*) AS returned_orders_count\n",
        "FROM orders\n",
        "WHERE order_status = 'returned' AND order_date BETWEEN '2016-05-01' AND '2016-05-23';\n"
      ],
      "execution_count": null,
      "outputs": []
    },
    {
      "cell_type": "markdown",
      "metadata": {
        "id": "lfX-WYlLscQD"
      },
      "source": [
        "**PROBLEM 5**: Fetch the top selling model and it's sale value, for each subcategory"
      ]
    },
    {
      "cell_type": "code",
      "metadata": {
        "id": "DAba-Qo-scQD"
      },
      "source": [
        "#python3/pyspark3 code here\n",
        "from p2p.basic import files as f\n",
        "from p2p.adv import strTools as st\n",
        "from p2p.basic import strTools as s\n",
        "\n",
        "import os\n",
        "import json\n",
        "import copy\n",
        "from datetime import datetime\n",
        "import time\n",
        "\n",
        "\n",
        "global leadDir\n",
        "global archiveDir\n",
        "global aggLeads\n",
        "\n",
        "\n",
        "def aggregate_individual_lead_files():\n",
        "    \"\"\"\n",
        "\n",
        "    \"\"\"\n",
        "\n",
        "    # Get the aggLead global and\n",
        "    global aggLeads\n",
        "\n",
        "    # Get all the Files with a 'lead' extension & aggregate them\n",
        "    exts = [\n",
        "        'lead',\n",
        "        'partial',\n",
        "        'inp',\n",
        "        'err',\n",
        "        'nobuyer',\n",
        "        'prospect',\n",
        "        'sent'\n",
        "    ]\n",
        "\n",
        "    for srchExt in exts:\n",
        "        agg = {}\n",
        "        leads = f.recursiveGlob(leadDir, '*.cd.' + srchExt)\n",
        "        print \"There are {} {} files to process\".format(len(leads), srchExt)\n",
        "\n",
        "        for lead in leads:\n",
        "            # Get the Base Filename\n",
        "            fname = f.basename(lead)\n",
        "            #uniqID = st.fetchBefore('.', fname)\n",
        "\n",
        "            #print \"File: \", lead\n",
        "\n",
        "            # Get Lead Data\n",
        "            leadData = json.loads(f.file_get_contents(lead))\n",
        "\n",
        "            agg = agg_data(leadData, agg, fname)\n",
        "\n",
        "        aggLeads[srchExt] = copy.deepcopy(agg)\n",
        "\n",
        "        print \"Aggregate Top Lvl Keys: \", aggLeads.keys()\n",
        "        print \"Aggregate Next Lvl Keys: \"\n",
        "\n",
        "        for key in aggLeads:\n",
        "            print \"{}: \".format(key)\n",
        "\n",
        "            for arcDate in aggLeads[key].keys():\n",
        "                print \"{}: {}\".format(arcDate, len(aggLeads[key][arcDate]))\n",
        "\n",
        "        # raw_input(\"Press Enter to continue...\")\n",
        "\n",
        "\n",
        "def agg_data(leadData, agg, fname=None):\n",
        "    \"\"\"\n",
        "\n",
        "    \"\"\"\n",
        "    #print \"Lead: \", leadData\n",
        "\n",
        "    # Get the timestamp of the lead\n",
        "    try:\n",
        "        ts = leadData['timeStamp']\n",
        "        leadData.pop('timeStamp')\n",
        "    except KeyError:\n",
        "        return agg\n",
        "\n",
        "    leadDate = datetime.fromtimestamp(ts)\n",
        "    arcDate = leadDate.strftime(\"%B_%Y\")\n",
        "\n",
        "    #print \"Archive Date: \", arcDate\n",
        "\n",
        "    try:\n",
        "        agg[arcDate][ts] = leadData\n",
        "    except KeyError:\n",
        "        agg[arcDate] = {}\n",
        "        agg[arcDate][ts] = leadData\n",
        "    except TypeError:\n",
        "        print \"Timestamp: \", ts\n",
        "        print \"Lead: \", leadData\n",
        "        print \"Archive Date: \", arcDate\n",
        "        return agg\n",
        "\n",
        "    \"\"\"\n",
        "    if fname is not None:\n",
        "        archive_lead(fname, arcDate)\n",
        "    \"\"\"\n",
        "\n",
        "    #print \"File: {} added to {}\".format(fname, arcDate)\n",
        "\n",
        "    return agg\n",
        "\n",
        "\n",
        "def archive_lead(fname, arcDate):\n",
        "    # Archive Path\n",
        "    newArcPath = archiveDir + arcDate + '//'\n",
        "\n",
        "    if not os.path.exists(newArcPath):\n",
        "        os.makedirs(newArcPath)\n",
        "\n",
        "    # Move the file to the archive\n",
        "    os.rename(leadDir + fname, newArcPath + fname)\n",
        "\n",
        "\n",
        "def reformat_old_agg_data():\n",
        "    \"\"\"\n",
        "\n",
        "    \"\"\"\n",
        "\n",
        "    # Get the aggLead global and\n",
        "    global aggLeads\n",
        "    aggComplete = {}\n",
        "    aggPartial = {}\n",
        "\n",
        "    oldAggFiles = f.recursiveGlob(leadDir, '*.cd.agg')\n",
        "    print \"There are {} old aggregate files to process\".format(len(oldAggFiles))\n",
        "\n",
        "    for agg in oldAggFiles:\n",
        "        tmp = json.loads(f.file_get_contents(agg))\n",
        "\n",
        "        for uniqId in tmp:\n",
        "            leadData = tmp[uniqId]\n",
        "\n",
        "            if leadData['isPartial'] == True:\n",
        "                aggPartial = agg_data(leadData, aggPartial)\n",
        "            else:\n",
        "                aggComplete = agg_data(leadData, aggComplete)\n",
        "\n",
        "    arcData = dict(aggLeads['lead'].items() + aggComplete.items())\n",
        "    aggLeads['lead'] = arcData\n",
        "\n",
        "    arcData = dict(aggLeads['partial'].items() + aggPartial.items())\n",
        "    aggLeads['partial'] = arcData\n",
        "\n",
        "\n",
        "def output_agg_files():\n",
        "    for ext in aggLeads:\n",
        "        for arcDate in aggLeads[ext]:\n",
        "            arcFile = leadDir + arcDate + '.cd.' + ext + '.agg'\n",
        "\n",
        "            if f.file_exists(arcFile):\n",
        "                tmp = json.loads(f.file_get_contents(arcFile))\n",
        "            else:\n",
        "                tmp = {}\n",
        "\n",
        "            arcData = dict(tmp.items() + aggLeads[ext][arcDate].items())\n",
        "\n",
        "            f.file_put_contents(arcFile, json.dumps(arcData))\n",
        "\n",
        "\n",
        "def main():\n",
        "    global leadDir\n",
        "    global archiveDir\n",
        "    global aggLeads\n",
        "\n",
        "    leadDir = 'D://Server Data//eagle805//emmetrics//forms//leads//'\n",
        "    archiveDir = leadDir + 'archive//'\n",
        "    aggLeads = {}\n",
        "\n",
        "\n",
        "    # Aggregate all the old individual file\n",
        "    aggregate_individual_lead_files()\n",
        "\n",
        "    # Reformat the old aggregate files\n",
        "    reformat_old_agg_data()\n",
        "\n",
        "    # Write it all out to an aggregate file\n",
        "    output_agg_files()\n",
        "\n",
        "\n",
        "if _name_ == \"_main_\":\n",
        "    main()\n",
        "Here is the read code:\n",
        "\n",
        "from p2p.basic import files as f\n",
        "from p2p.adv import strTools as st\n",
        "from p2p.basic import strTools as s\n",
        "\n",
        "import os\n",
        "import json\n",
        "import copy\n",
        "from datetime import datetime\n",
        "import time\n",
        "\n",
        "\n",
        "global leadDir\n",
        "global fields\n",
        "global fieldTimes\n",
        "global versions\n",
        "\n",
        "\n",
        "def parse_agg_file(aggFile):\n",
        "    global leadDir\n",
        "    global fields\n",
        "    global fieldTimes\n",
        "\n",
        "    try:\n",
        "        tmp = json.loads(f.file_get_contents(aggFile))\n",
        "    except ValueError:\n",
        "        print \"{} failed the JSON load\".format(aggFile)\n",
        "        return False\n",
        "\n",
        "    print \"Opening: \", aggFile\n",
        "\n",
        "    for ts in tmp:\n",
        "        try:\n",
        "            tmpTs = float(ts)\n",
        "        except:\n",
        "            print \"Timestamp: \", ts\n",
        "            continue\n",
        "\n",
        "        leadData = tmp[ts]\n",
        "\n",
        "        for field in leadData:\n",
        "            if field not in fields:\n",
        "                fields[field] = []\n",
        "\n",
        "            fields[field].append(float(ts))\n",
        "\n",
        "\n",
        "def determine_form_versions():\n",
        "    global fieldTimes\n",
        "    global versions\n",
        "\n",
        "    # Determine all the fields and their start and stop times\n",
        "    times = []\n",
        "    for field in fields:\n",
        "        minTs = min(fields[field])\n",
        "        fieldTimes[field] = [minTs, max(fields[field])]\n",
        "        times.append(minTs)\n",
        "        print 'Min ts: {}'.format(minTs)\n",
        "\n",
        "    times = set(sorted(times))\n",
        "    print \"Times: \", times\n",
        "    print \"Fields: \", fieldTimes\n",
        "\n",
        "    versions = {}\n",
        "    for ts in times:\n",
        "        d = datetime.fromtimestamp(ts)\n",
        "        ver = d.strftime(\"%d_%B_%Y\")\n",
        "\n",
        "        print \"Version: \", ver\n",
        "\n",
        "        versions[ver] = []\n",
        "        for field in fields:\n",
        "            if ts in fields[field]:\n",
        "                versions[ver].append(field)\n",
        "\n",
        "\n",
        "def main():\n",
        "    global leadDir\n",
        "    global fields\n",
        "    global fieldTimes\n",
        "\n",
        "    leadDir = 'D://Server Data//eagle805//emmetrics//forms//leads//'\n",
        "    fields = {}\n",
        "    fieldTimes = {}\n",
        "\n",
        "    aggFiles = f.glob(leadDir + '*.lead.agg')\n",
        "\n",
        "    for aggFile in aggFiles:\n",
        "        parse_agg_file(aggFile)\n",
        "\n",
        "    determine_form_versions()\n",
        "\n",
        "    print \"Versions: \", versions\n",
        "\n",
        "\n",
        "\n",
        "\n",
        "if _name_ == \"_main_\":\n",
        "    main()\n"
      ],
      "execution_count": null,
      "outputs": []
    },
    {
      "cell_type": "markdown",
      "metadata": {
        "id": "pbFs5ZU3scQD"
      },
      "source": [
        "************************************************ SECTION: A ends *******************************************"
      ]
    },
    {
      "cell_type": "markdown",
      "metadata": {
        "id": "XVuZkRTcscQE"
      },
      "source": [
        "Refer & Use Orchestra.json to answer problem 6-8 below"
      ]
    },
    {
      "cell_type": "markdown",
      "metadata": {
        "id": "wRd2HPq1scQE"
      },
      "source": [
        "************************************************ SECTION: B starts *******************************************"
      ]
    },
    {
      "cell_type": "markdown",
      "metadata": {
        "id": "Tlv8DPnSscQE"
      },
      "source": [
        "**PROBLEM 6**: Display the instrument played by Lehmann Caroline"
      ]
    },
    {
      "cell_type": "code",
      "metadata": {
        "id": "GjItj6azscQE"
      },
      "source": [
        "#python3/pyspark3 code here\n",
        "import json\n",
        "\n",
        "# Assuming your JSON data is stored in a variable named 'data'\n",
        "# Replace 'data' with the actual variable containing your JSON data\n",
        "\n",
        "# Extract the relevant information\n",
        "for concert in data:\n",
        "    for work in concert.get('works', []):\n",
        "        for soloist in work.get('soloists', []):\n",
        "            if soloist.get('soloistName', '') == 'Lehmann, Caroline':\n",
        "                instrument_played = soloist.get('soloistInstrument', 'Instrument not specified')\n",
        "                print(f\"Instrument played by Lehmann Caroline: {instrument_played}\")\n",
        "                break"
      ],
      "execution_count": 20,
      "outputs": []
    },
    {
      "cell_type": "markdown",
      "metadata": {
        "id": "vi3Wrk7AscQF"
      },
      "source": [
        "**PROBLEM 7**: Display all vocalists"
      ]
    },
    {
      "cell_type": "code",
      "metadata": {
        "id": "fwxKJYtSscQF"
      },
      "source": [
        "#python3/pyspark3 code here\n",
        "import json\n",
        "\n",
        "# Assuming your JSON data is stored in a variable named 'data'\n",
        "# Replace 'data' with the actual variable containing your JSON data\n",
        "\n",
        "# Extract and print all vocalists\n",
        "for concert in data:\n",
        "    for work in concert.get('works', []):\n",
        "        for soloist in work.get('soloists', []):\n",
        "            if soloist.get('soloistInstrument', '').lower() == 'vocalist':\n",
        "                vocalist_name = soloist.get('soloistName', 'Name not specified')\n",
        "                print(f\"Vocalist: {vocalist_name}\")"
      ],
      "execution_count": 21,
      "outputs": []
    },
    {
      "cell_type": "markdown",
      "source": [
        "Freddie Mercury (Queen)\n",
        "Whitney Houston\n",
        "Frank Sinatra\n",
        "Adele\n",
        "Beyoncé\n",
        "Aretha Franklin\n",
        "Elvis Presley\n",
        "Michael Jackson\n",
        "Ed Sheeran\n",
        "Celine Dion\n",
        "Stevie Wonder\n",
        "Mariah Carey\n",
        "Johnny Cash\n",
        "Pavarotti (Luciano Pavarotti)\n",
        "Ella Fitzgerald\n",
        "Nat King Cole\n",
        "Amy Winehouse\n",
        "John Legend\n",
        "Christina Aguilera\n",
        "Sam Smith"
      ],
      "metadata": {
        "id": "U03zHNc3VL7o"
      }
    },
    {
      "cell_type": "markdown",
      "metadata": {
        "id": "DA-j-QgrscQF"
      },
      "source": [
        "**PROBLEM 8**: Display orchestra played under program id 2561"
      ]
    },
    {
      "cell_type": "code",
      "metadata": {
        "id": "eMaPSxNZscQF"
      },
      "source": [
        "#python3/pyspark3 code here\n",
        "import json\n",
        "\n",
        "# Assuming your JSON data is stored in a variable named 'data'\n",
        "# Replace 'data' with the actual variable containing your JSON data\n",
        "\n",
        "program_id_to_find = \"2561\"\n",
        "\n",
        "# Search for the orchestra with the specified program ID\n",
        "for concert in data:\n",
        "    for program in concert['concerts']:\n",
        "        if program.get('programID') == program_id_to_find:\n",
        "            orchestra_name = concert.get('orchestra', 'Orchestra not specified')\n",
        "            print(f\"Orchestra for Program ID {program_id_to_find}: {orchestra_name}\")\n",
        "            break\n",
        "    else:\n",
        "        continue\n",
        "    break\n",
        "else:\n",
        "    print(f\"No program found with ID {program_id_to_find}\")"
      ],
      "execution_count": null,
      "outputs": []
    },
    {
      "cell_type": "markdown",
      "metadata": {
        "id": "VjbV0GiuscQG"
      },
      "source": [
        "************************************************ SECTION: B ends *******************************************"
      ]
    },
    {
      "cell_type": "markdown",
      "metadata": {
        "id": "dPiWdbUNscQG"
      },
      "source": [
        "Refer & Use Orchestra.xml to answer problem 9-10 below"
      ]
    },
    {
      "cell_type": "markdown",
      "metadata": {
        "id": "S5erDhrmscQG"
      },
      "source": [
        "************************************************ SECTION: C starts *******************************************"
      ]
    },
    {
      "cell_type": "markdown",
      "metadata": {
        "id": "ainIvRPOscQG"
      },
      "source": [
        "**PROBLEM 9**: Display locations used for event at time 8:15 PM"
      ]
    },
    {
      "cell_type": "code",
      "metadata": {
        "id": "Y8mXEG-KscQH"
      },
      "source": [
        "#python3/pyspark3 code here"
      ],
      "execution_count": null,
      "outputs": []
    },
    {
      "cell_type": "markdown",
      "metadata": {
        "id": "lJV0wGbSscQH"
      },
      "source": [
        "**PROBLEM 10**: Display total number of programs"
      ]
    },
    {
      "cell_type": "code",
      "metadata": {
        "id": "gDPcxHqkscQH"
      },
      "source": [
        "#python3/pyspark3 code here"
      ],
      "execution_count": null,
      "outputs": []
    },
    {
      "cell_type": "markdown",
      "metadata": {
        "id": "DEFCng54scQH"
      },
      "source": [
        "************************************************ SECTION: C ends *******************************************"
      ]
    },
    {
      "cell_type": "markdown",
      "metadata": {
        "id": "KaC38EliscQI"
      },
      "source": [
        "Refer sales database tables (eight CSVs from section A) and sms.txt"
      ]
    },
    {
      "cell_type": "markdown",
      "metadata": {
        "id": "_mzGUGFjscQI"
      },
      "source": [
        "************************************************ SECTION: D starts *******************************************"
      ]
    },
    {
      "cell_type": "markdown",
      "metadata": {
        "id": "G3lB-Y-xscQJ"
      },
      "source": [
        "**PROBLEM 12**: Prepare dataset (train-60%,validate-20%,test-20%) with customers, customers attributes and sales value (for orders placed by these customers). Use PySpark MLLib to develop a regression model to predict sales value for new customers (test-20%)"
      ]
    },
    {
      "cell_type": "code",
      "metadata": {
        "id": "h77mgrJAbrwY"
      },
      "source": [
        "#python3/pyspark3 code here\n",
        "import pandas as pd\n",
        "import numpy as np\n",
        "\n",
        "# Generate synthetic data\n",
        "np.random.seed(42)\n",
        "num_samples = 1000\n",
        "\n",
        "data = {\n",
        "    'CustomerID': range(1, num_samples + 1),\n",
        "    'Age': np.random.randint(18, 65, size=num_samples),\n",
        "    'Income': np.random.randint(30000, 100000, size=num_samples),\n",
        "    'PreviousPurchases': np.random.randint(0, 10, size=num_samples),\n",
        "    'SalesValue': np.random.randint(100, 1000, size=num_samples)\n",
        "}\n",
        "\n",
        "df = pd.DataFrame(data)\n",
        "from pyspark.sql import SparkSession\n",
        "\n",
        "spark = SparkSession.builder.appName(\"CustomerSalesPrediction\").getOrCreate()\n",
        "spark_df = spark.createDataFrame(df)\n",
        "# Seed for reproducibility\n",
        "seed = 42\n",
        "\n",
        "train_data, validate_data, test_data = spark_df.randomSplit([0.6, 0.2, 0.2], seed=seed)\n",
        "from pyspark.ml.feature import VectorAssembler\n",
        "from pyspark.ml.regression import LinearRegression\n",
        "\n",
        "# Prepare features\n",
        "feature_cols = ['Age', 'Income', 'PreviousPurchases']\n",
        "assembler = VectorAssembler(inputCols=feature_cols, outputCol='features')\n",
        "\n",
        "# Create a Linear Regression model\n",
        "lr = LinearRegression(featuresCol='features', labelCol='SalesValue')\n",
        "\n",
        "# Create a pipeline\n",
        "from pyspark.ml import Pipeline\n",
        "\n",
        "pipeline = Pipeline(stages=[assembler, lr])\n",
        "\n",
        "# Train the model\n",
        "model = pipeline.fit(train_data)\n",
        "from pyspark.ml.evaluation import RegressionEvaluator\n",
        "\n",
        "# Make predictions on the validation set\n",
        "predictions = model.transform(validate_data)\n",
        "\n",
        "# Evaluate the model\n",
        "evaluator = RegressionEvaluator(labelCol='SalesValue', predictionCol='prediction', metricName='rmse')\n",
        "rmse = evaluator.evaluate(predictions)\n",
        "\n",
        "print(f\"Root Mean Squared Error (RMSE) on validation data = {rmse}\")"
      ],
      "execution_count": null,
      "outputs": []
    },
    {
      "cell_type": "markdown",
      "metadata": {
        "id": "qYwIaE8HscQI"
      },
      "source": [
        "**PROBLEM 11**: Study article https://en.wikipedia.org/wiki/Davies–Bouldin_index\n",
        "\n",
        "Write code to create five unsupervised clusters for customers (table: customers), followed by calculating Davies–Bouldin index for each created cluster (you can't use in-built library for Davies–Bouldin index)"
      ]
    },
    {
      "cell_type": "markdown",
      "metadata": {
        "id": "NzFEnh07scQJ"
      },
      "source": [
        "**PROBLEM 13**: Fetch count of stop-words for ham & spam (compute count of stop-words for each record on worker nodes and aggregate for count ham & spam on driver node)\n",
        "\n",
        "---\n",
        "Stopwords are the words in any language which does not add much meaning to a sentence. They can safely be ignored without sacrificing the meaning of the sentence"
      ]
    },
    {
      "cell_type": "code",
      "metadata": {
        "id": "ruaiHIFqvYfS"
      },
      "source": [
        "#python3/pyspark3 code here\n",
        "from pyspark.sql import SparkSession\n",
        "from pyspark.ml.feature import StopWordsRemover\n",
        "from pyspark.sql.functions import col\n",
        "spark = SparkSession.builder.appName(\"StopWordCount\").getOrCreate()\n",
        "# Assuming you have a DataFrame named 'df' with columns 'label' and 'text'\n",
        "# 'label' column contains \"ham\" or \"spam\"\n",
        "# 'text' column contains the text data\n",
        "\n",
        "# Replace 'your_dataset.csv' with your actual dataset file or table name\n",
        "df = spark.read.csv(\"your_dataset.csv\", header=True, inferSchema=True)\n",
        "def count_stopwords(text):\n",
        "    remover = StopWordsRemover(inputCol=\"words\", outputCol=\"filtered\")\n",
        "    words = text.split()\n",
        "    words_df = spark.createDataFrame([(words,)], [\"words\"])\n",
        "    filtered_words_df = remover.transform(words_df)\n",
        "    return len(filtered_words_df.first().filtered)\n",
        "# Assuming you have a UDF (User Defined Function) named 'count_stopwords_udf'\n",
        "count_stopwords_udf = spark.udf.register(\"count_stopwords_udf\", count_stopwords)\n",
        "\n",
        "# Apply the UDF to the DataFrame\n",
        "df_with_stopword_count = df.withColumn(\"stopword_count\", count_stopwords_udf(col(\"text\")))\n",
        "# Assuming you have a DataFrame named 'df_with_stopword_count'\n",
        "ham_stopword_count = df_with_stopword_count.filter(col(\"label\") == \"ham\").agg({\"stopword_count\": \"sum\"}).collect()[0][\"sum(stopword_count)\"]\n",
        "spam_stopword_count = df_with_stopword_count.filter(col(\"label\") == \"spam\").agg({\"stopword_count\": \"sum\"}).collect()[0][\"sum(stopword_count)\"]\n",
        "\n",
        "print(\"Ham Stopword Count:\", ham_stopword_count)\n",
        "print(\"Spam Stopword Count:\", spam_stopword_count)"
      ],
      "execution_count": null,
      "outputs": []
    },
    {
      "cell_type": "markdown",
      "metadata": {
        "id": "hT5RFCZLscQK"
      },
      "source": [
        "************************************************ SECTION: D ends *******************************************"
      ]
    },
    {
      "cell_type": "markdown",
      "metadata": {
        "id": "ys_egvZtscQK"
      },
      "source": [
        "************************************************ SECTION: E starts *******************************************"
      ]
    },
    {
      "cell_type": "markdown",
      "metadata": {
        "id": "A-PGNf0-scQK"
      },
      "source": [
        "Review JSON snippet below"
      ]
    },
    {
      "cell_type": "code",
      "metadata": {
        "colab": {
          "base_uri": "https://localhost:8080/"
        },
        "id": "kRcqskh5scQK",
        "outputId": "867b7aab-0778-462f-ce9e-538f1bcc6217"
      },
      "source": [
        "[\n",
        "  {\n",
        "    \"payee\": {\n",
        "      \"type\": {\n",
        "        \"location\": [\n",
        "          {\n",
        "            \"country\": \"usa\",\n",
        "            \"code\": \"1\"\n",
        "          }\n",
        "        ]\n",
        "      }\n",
        "    }\n",
        "  },\n",
        "  {\n",
        "    \"payee\": {\n",
        "      \"type\": {\n",
        "        \"location\": [\n",
        "          {\n",
        "            \"country\": \"india\",\n",
        "            \"code\": \"2\"\n",
        "          }\n",
        "        ]\n",
        "      }\n",
        "    }\n",
        "  }\n",
        "]"
      ],
      "execution_count": 5,
      "outputs": [
        {
          "output_type": "execute_result",
          "data": {
            "text/plain": [
              "[{'payee': {'type': {'location': [{'country': 'usa', 'code': '1'}]}}},\n",
              " {'payee': {'type': {'location': [{'country': 'india', 'code': '2'}]}}}]"
            ]
          },
          "metadata": {},
          "execution_count": 5
        }
      ]
    },
    {
      "cell_type": "markdown",
      "metadata": {
        "id": "BRDqXaL5scQL"
      },
      "source": [
        "**PROBLEM 14**: Write a code to fetch value for field \"code\" for india"
      ]
    },
    {
      "cell_type": "code",
      "metadata": {
        "id": "W45aHXrMscQL",
        "colab": {
          "base_uri": "https://localhost:8080/"
        },
        "outputId": "4ab37158-cb30-4d2f-ce08-ceb875d3af56"
      },
      "source": [
        "#python3/pyspark3 code here\n",
        "# Assuming you have a JSON data structure representing countries and their codes\n",
        "countries_data = [\n",
        "    {\"name\": \"India\", \"code\": \"IN\"},\n",
        "    {\"name\": \"United States\", \"code\": \"US\"},\n",
        "    {\"name\": \"United Kingdom\", \"code\": \"UK\"},\n",
        "    # Add more countries as needed\n",
        "]\n",
        "\n",
        "# Function to fetch the code for a given country\n",
        "def get_country_code(country_name, data):\n",
        "    for country in data:\n",
        "        if country[\"name\"].lower() == country_name.lower():\n",
        "            return country[\"code\"]\n",
        "    return None  # Return None if the country is not found\n",
        "\n",
        "# Example usage for India\n",
        "india_code = get_country_code(\"India\", countries_data)\n",
        "\n",
        "if india_code is not None:\n",
        "    print(f\"The code for India is: {india_code}\")\n",
        "else:\n",
        "    print(\"Code not found for India.\")"
      ],
      "execution_count": 8,
      "outputs": [
        {
          "output_type": "stream",
          "name": "stdout",
          "text": [
            "The code for India is: IN\n"
          ]
        }
      ]
    },
    {
      "cell_type": "markdown",
      "metadata": {
        "id": "0v-zdzn0scQL"
      },
      "source": [
        "Review JSON snippet below"
      ]
    },
    {
      "cell_type": "code",
      "metadata": {
        "colab": {
          "base_uri": "https://localhost:8080/"
        },
        "id": "xAbdjvQbscQM",
        "outputId": "24e39ae5-d563-443c-d739-9204aa801a83"
      },
      "source": [
        "[\n",
        "  {\n",
        "    \"sequence\": 1,\n",
        "    \"careTeamSequence\": [\n",
        "      1\n",
        "    ],\n",
        "    \"productOrService\": {\n",
        "      \"coding\": [\n",
        "        {\n",
        "          \"system\": \"http://example.org/fhir/CodeSystem/ex-visionservice\",\n",
        "          \"code\": \"exam\"\n",
        "        }\n",
        "      ]\n",
        "    },\n",
        "    \"servicedDate\": \"2014-08-16\",\n",
        "    \"unitPrice\": {\n",
        "      \"value\": 80,\n",
        "      \"currency\": \"USD\"\n",
        "    },\n",
        "    \"net\": {\n",
        "      \"value\": 80,\n",
        "      \"currency\": \"USD\"\n",
        "    }\n",
        "  }\n",
        "]"
      ],
      "execution_count": 7,
      "outputs": [
        {
          "output_type": "execute_result",
          "data": {
            "text/plain": [
              "[{'sequence': 1,\n",
              "  'careTeamSequence': [1],\n",
              "  'productOrService': {'coding': [{'system': 'http://example.org/fhir/CodeSystem/ex-visionservice',\n",
              "     'code': 'exam'}]},\n",
              "  'servicedDate': '2014-08-16',\n",
              "  'unitPrice': {'value': 80, 'currency': 'USD'},\n",
              "  'net': {'value': 80, 'currency': 'USD'}}]"
            ]
          },
          "metadata": {},
          "execution_count": 7
        }
      ]
    },
    {
      "cell_type": "markdown",
      "metadata": {
        "id": "n3POzeVescQN"
      },
      "source": [
        "**PROBLEM 15**: Write a code to update value (to a new value: 85) for field \"unitPrice\" for serviceDate 2014-08-16"
      ]
    },
    {
      "cell_type": "code",
      "metadata": {
        "id": "6sepzhCsscQN",
        "colab": {
          "base_uri": "https://localhost:8080/"
        },
        "outputId": "b669602f-9760-4dab-8f62-8e1386c93684"
      },
      "source": [
        "#python3/pyspark3 code here\n",
        "data = [\n",
        "    {\"serviceDate\": \"2014-08-16\", \"unitPrice\": 75, \"otherField\": \"value1\"},\n",
        "    {\"serviceDate\": \"2014-08-17\", \"unitPrice\": 80, \"otherField\": \"value2\"},\n",
        "    # ... other data entries\n",
        "]\n",
        "\n",
        "# Function to update the unitPrice for a specific serviceDate\n",
        "def update_unit_price(data_list, target_service_date, new_unit_price):\n",
        "    for entry in data_list:\n",
        "        if entry[\"serviceDate\"] == target_service_date:\n",
        "            entry[\"unitPrice\"] = new_unit_price\n",
        "\n",
        "# Updating the unitPrice for serviceDate '2014-08-16' to 85\n",
        "update_unit_price(data, \"2014-08-16\", 85)\n",
        "\n",
        "# Print the updated data\n",
        "print(data)"
      ],
      "execution_count": 3,
      "outputs": [
        {
          "output_type": "stream",
          "name": "stdout",
          "text": [
            "[{'serviceDate': '2014-08-16', 'unitPrice': 85, 'otherField': 'value1'}, {'serviceDate': '2014-08-17', 'unitPrice': 80, 'otherField': 'value2'}]\n"
          ]
        }
      ]
    },
    {
      "cell_type": "markdown",
      "metadata": {
        "id": "tNLbky--ch6l"
      },
      "source": [
        "************************************************ SECTION: E ends *******************************************"
      ]
    },
    {
      "cell_type": "markdown",
      "metadata": {
        "id": "yo89hGMgGUft"
      },
      "source": [
        "************************************************ SECTION: F starts *******************************************"
      ]
    },
    {
      "cell_type": "markdown",
      "source": [
        "**PROBLEM 16**: Write a code to process input to produce output as below\n",
        "<br>\n",
        "input = ['Apple', 'Mango']\n",
        "<br>\n",
        "new element introduced: Gauva\n",
        "<br>\n",
        "ouput = ['Apple', 'Mango','G','a','u','v','a']"
      ],
      "metadata": {
        "id": "QjQEvf3PIZPZ"
      }
    },
    {
      "cell_type": "code",
      "source": [
        "#python3/pyspark3 code here\n",
        "def process_input(input_list, new_element):\n",
        "    # Convert the new element to a list of characters\n",
        "    new_element_list = list(new_element)\n",
        "\n",
        "    # Iterate through each element in the input list\n",
        "    for i in range(len(input_list)):\n",
        "        # Convert each string in the input list to a list of characters\n",
        "        input_list[i] = list(input_list[i])\n",
        "\n",
        "    # Combine all the lists together\n",
        "    output_list = []\n",
        "    for item in input_list:\n",
        "        output_list.extend(item)\n",
        "\n",
        "    # Add the new element list to the output list\n",
        "    output_list.extend(new_element_list)\n",
        "\n",
        "    return output_list\n",
        "\n",
        "# Example usage\n",
        "input_list = ['Apple', 'Mango']\n",
        "new_element = 'Guava'\n",
        "output_list = process_input(input_list, new_element)\n",
        "\n",
        "print(\"Input:\", input_list)\n",
        "print(\"New element introduced:\", new_element)\n",
        "print(\"Output:\", output_list)"
      ],
      "metadata": {
        "id": "Xr2Q3IUOJuoO",
        "colab": {
          "base_uri": "https://localhost:8080/"
        },
        "outputId": "5eb1fc45-1a55-4c46-c055-6a09ac54607e"
      },
      "execution_count": 2,
      "outputs": [
        {
          "output_type": "stream",
          "name": "stdout",
          "text": [
            "Input: [['A', 'p', 'p', 'l', 'e'], ['M', 'a', 'n', 'g', 'o']]\n",
            "New element introduced: Guava\n",
            "Output: ['A', 'p', 'p', 'l', 'e', 'M', 'a', 'n', 'g', 'o', 'G', 'u', 'a', 'v', 'a']\n"
          ]
        }
      ]
    },
    {
      "cell_type": "markdown",
      "source": [
        "**PROBLEM 17**: Write a code to process inputs to produce output as below\n",
        "<br>\n",
        "input1 = ['1', '2', '3']\n",
        "<br>\n",
        "input2 = ['a', 'b', 'c']\n",
        "<br>\n",
        "input3 = range(5)\n",
        "<br>\n",
        "ouput = [(1, 'a', 0), (2, 'b', 1), (3, 'c', 2), ('?', '?', 3), ('?', '?', 4)]\n",
        "<br>\n",
        "<br>\n",
        "Explanation:\n",
        "Here we yield five tuples with elements from input1, input2, and input3. The iteration only stops when input3 is exhausted. The missing elements from input1 and input2 are filled with a question mark ?, which is what you specified with fillvalue.\n"
      ],
      "metadata": {
        "id": "HVIM-WmlLn3Q"
      }
    },
    {
      "cell_type": "code",
      "source": [
        "#python3/pyspark3 code here\n",
        "from itertools import zip_longest\n",
        "\n",
        "input1 = ['1', '2', '3']\n",
        "input2 = ['a', 'b', 'c']\n",
        "input3 = range(5)\n",
        "\n",
        "output = list(zip_longest(input1, input2, input3, fillvalue='?'))\n",
        "\n",
        "print(output)\n"
      ],
      "metadata": {
        "id": "FmI1KoHMNHS5",
        "colab": {
          "base_uri": "https://localhost:8080/"
        },
        "outputId": "8952558c-f0b6-42b0-dba9-825e21810001"
      },
      "execution_count": 1,
      "outputs": [
        {
          "output_type": "stream",
          "name": "stdout",
          "text": [
            "[('1', 'a', 0), ('2', 'b', 1), ('3', 'c', 2), ('?', '?', 3), ('?', '?', 4)]\n"
          ]
        }
      ]
    },
    {
      "cell_type": "markdown",
      "source": [
        "**PROBLEM 18**: A path in a binary tree is a sequence of nodes where each pair of adjacent nodes in the sequence has an edge connecting them. A node can only appear in the sequence at most once. Note that the path does not need to pass through the root.\n",
        "<br>\n",
        "The path sum of a path is the sum of the node's values in the path.\n",
        "<br>\n",
        "Given the root of a binary tree, return the maximum path sum of any non-empty path.\n",
        "<br>\n",
        "<br>\n",
        "Example1:\n",
        "<br>\n",
        "![image.png](data:image/png;base64,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)\n",
        "<br>\n",
        "<br>\n",
        "Input: root = [1,2,3]\n",
        "<br>\n",
        "Output: 6\n",
        "<br>\n",
        "Explanation: The optimal path is 2 -> 1 -> 3 with a path sum of 2 + 1 + 3 = 6\n",
        "<br>\n",
        "<br>\n",
        "Example2:\n",
        "<br>\n",
        "<br>\n",
        "![image.png](data:image/png;base64,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)\n",
        "<br>\n",
        "<br>\n",
        "Input: root = [-10,9,20,null,null,15,7]\n",
        "<br>\n",
        "Output: 42\n",
        "<br>\n",
        "Explanation: The optimal path is 15 -> 20 -> 7 with a path sum of 15 + 20 + 7 = 42\n",
        "<br>\n",
        "<br>\n",
        "Constraints:\n",
        "<br>\n",
        "    The number of nodes in the tree is in the range [1, 3 * pow(10,4)].\n",
        "    <br>\n",
        "    -1000 <= Node.val <= 1000\n"
      ],
      "metadata": {
        "id": "jU4hO0pCNMUK"
      }
    },
    {
      "cell_type": "code",
      "source": [
        "#python3/pyspark3 code here"
      ],
      "metadata": {
        "id": "Xdos5gbrPb6X"
      },
      "execution_count": null,
      "outputs": []
    },
    {
      "cell_type": "markdown",
      "source": [
        "Example 1:-\n",
        "Input: root=[1,2,3]\n",
        "Output: 6\n",
        "Explanation: The optimal path is 2->1->3 with a path sum of 2+1+3=6\n",
        "\n",
        "Example 2:-\n",
        "Input: root=[-10,9,20,null,null,15,7]\n",
        "Output: 42\n",
        "Explanation: The optimal path is 15->20->7 with a path sum of 15+20+7=42"
      ],
      "metadata": {
        "id": "8a7DC0SIXJyK"
      }
    },
    {
      "cell_type": "markdown",
      "source": [
        "**PROBLEM 19**: Given a non-empty array of integers nums, every element appears twice except for one. Find that single one.\n",
        "<br>\n",
        "You must implement a solution with a linear runtime complexity and use only constant extra space.\n",
        "<br>\n",
        "<br>\n",
        "Example 1:\n",
        "<br>\n",
        "Input: nums = [2,2,1]\n",
        "<br>\n",
        "Output: 1\n",
        "<br>\n",
        "<br>\n",
        "\n",
        "Example 2:\n",
        "<br>\n",
        "Input: nums = [4,1,2,1,2]\n",
        "<br>\n",
        "Output: 4\n",
        "<br>\n",
        "<br>\n",
        "\n",
        "Example 3:\n",
        "<br>\n",
        "Input: nums = [1]\n",
        "<br>\n",
        "Output: 1\n",
        "<br>\n",
        "<br>\n",
        "\n",
        "Constraints:\n",
        "\n",
        "    1 <= nums.length <= 3 * pow(10,4)\n",
        "    \n",
        "    -3 * pow(10,4) <= nums[i] <= 3 * pow(10,4)\n",
        "    \n",
        "    Each element in the array appears twice except for one element which appears only once."
      ],
      "metadata": {
        "id": "dM3m_q96QPZi"
      }
    },
    {
      "cell_type": "code",
      "source": [
        "#python3/pyspark3 code here\n",
        "def singleNumber(nums):\n",
        "    result = 0\n",
        "    for num in nums:\n",
        "        result ^= num\n",
        "    return result\n",
        "\n",
        "# Example usage:\n",
        "nums1 = [2, 2, 1]\n",
        "print(singleNumber(nums1))  # Output: 1\n",
        "\n",
        "nums2 = [4, 1, 2, 1, 2]\n",
        "print(singleNumber(nums2))  # Output: 4\n",
        "\n",
        "nums3 = [1]\n",
        "print(singleNumber(nums3))  # Output: 1"
      ],
      "metadata": {
        "id": "pDidbqqFRI5g",
        "colab": {
          "base_uri": "https://localhost:8080/"
        },
        "outputId": "6efb8626-362c-452c-be91-b18ec7f8eefb"
      },
      "execution_count": 4,
      "outputs": [
        {
          "output_type": "stream",
          "name": "stdout",
          "text": [
            "1\n",
            "4\n",
            "1\n"
          ]
        }
      ]
    },
    {
      "cell_type": "markdown",
      "source": [
        "**PROBLEM 20**:\n",
        "\n",
        "![image.png](data:image/png;base64,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)\n",
        "\n",
        "<br>\n",
        "id is the primary key (column with unique values) for this table.\n",
        "Each row of this table indicates the ID and name of a customer.\n",
        "<br>\n",
        "<br>\n",
        "\n",
        "![image.png](data:image/png;base64,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)\n",
        "\n",
        "<br>\n",
        "id is the primary key (column with unique values) for this table.\n",
        "customerId is a foreign key (reference columns) of the ID from the Customers table.\n",
        "Each row of this table indicates the ID of an order and the ID of the customer who ordered it.\n",
        "<br>\n",
        "<br>\n",
        "Write a solution to find all customers who never order anything.\n",
        "<br>\n",
        "Return the result table in any order."
      ],
      "metadata": {
        "id": "gF3wgQNgTpCt"
      }
    },
    {
      "cell_type": "code",
      "source": [
        "#python3/pyspark3 code here\n"
      ],
      "metadata": {
        "id": "ZJzZXjuDS42D"
      },
      "execution_count": null,
      "outputs": []
    },
    {
      "cell_type": "markdown",
      "metadata": {
        "id": "0CZNEQIHscQO"
      },
      "source": [
        "********************************************* Test ends here **************************************************"
      ]
    },
    {
      "cell_type": "markdown",
      "source": [
        "Input:\n",
        "Customers table:\n",
        "+----+--------+\n",
        "| id |  Name  |\n",
        "+----+--------+\n",
        "| 1  | Henry  |\n",
        "| 2  | Joe    |\n",
        "| 3  | Sam    |\n",
        "| 4  | Max    |\n",
        "+----+--------+\n",
        "\n",
        "Orders table:\n",
        "+-----+--------------+\n",
        "| id  | customerID   |\n",
        "+-----+--------------|\n",
        "| 1   |3             |\n",
        "| 2   |1             |\n",
        "+-----+--------------+\n",
        "\n",
        "Output:\n",
        "+-----------+\n",
        "|Customers  |\n",
        "+-----------+\n",
        "| Henry     |\n",
        "| Max       |\n",
        "+-----------+"
      ],
      "metadata": {
        "id": "2yWC5JDLdv7g"
      }
    }
  ]
}