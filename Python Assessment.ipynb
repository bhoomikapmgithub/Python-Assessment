{
  "nbformat": 4,
  "nbformat_minor": 0,
  "metadata": {
    "colab": {
      "provenance": []
    },
    "kernelspec": {
      "name": "python3",
      "display_name": "Python 3"
    },
    "language_info": {
      "name": "python"
    }
  },
  "cells": [
    {
      "cell_type": "code",
      "source": [
        "# main.py\n",
        "\n",
        "from fastapi import FastAPI, Request, Form, UploadFile\n",
        "from fastapi.templating import Jinja2Templates\n",
        "from fastapi.responses import HTMLResponse\n",
        "from sqlalchemy import create_engine, Column, Integer, String, MetaData, Table\n",
        "from sqlalchemy.orm import declarative_base, sessionmaker\n",
        "from starlette.middleware.sessions import SessionMiddleware\n",
        "from starlette.requests import Request\n",
        "import csv\n",
        "\n",
        "app = FastAPI()\n",
        "\n",
        "# Database setup\n",
        "DATABASE_URL = \"sqlite:///./test.db\"\n",
        "engine = create_engine(DATABASE_URL)\n",
        "metadata = MetaData()\n",
        "Base = declarative_base()\n",
        "\n",
        "users = Table(\n",
        "    \"users\",\n",
        "    metadata,\n",
        "    Column(\"id\", Integer, primary_key=True, index=True),\n",
        "    Column(\"name\", String, index=True),\n",
        "    Column(\"age\", Integer),\n",
        ")\n",
        "\n",
        "metadata.create_all(bind=engine)\n",
        "\n",
        "# Templates setup\n",
        "templates = Jinja2Templates(directory=\"templates\")\n",
        "\n",
        "\n",
        "@app.middleware(\"http\")\n",
        "async def db_session_middleware(request: Request, call_next):\n",
        "    db_session = sessionmaker(autocommit=False, autoflush=False, bind=engine)\n",
        "    request.state.db = db_session()\n",
        "    response = await call_next(request)\n",
        "    request.state.db.close()\n",
        "    return response\n",
        "\n",
        "\n",
        "@app.get(\"/\", response_class=HTMLResponse)\n",
        "async def read_upload_file(request: Request):\n",
        "    return templates.TemplateResponse(\"index.html\", {\"request\": request})\n",
        "\n",
        "\n",
        "@app.post(\"/uploadfile/\")\n",
        "async def create_upload_file(request: Request, file: UploadFile = Form(...), name_row: int = Form(...), age_row: int = Form(...)):\n",
        "    content = await file.read()\n",
        "\n",
        "    # Decode CSV content\n",
        "    decoded_content = content.decode(\"utf-8\").splitlines()\n",
        "\n",
        "    # Parse CSV\n",
        "    csv_reader = csv.reader(decoded_content)\n",
        "    csv_data = list(csv_reader)\n",
        "\n",
        "    # Extract name and age columns based on user selection\n",
        "    name_column = [row[name_row] for row in csv_data]\n",
        "    age_column = [row[age_row] for row in csv_data]\n",
        "\n",
        "    # Save data to SQLite database\n",
        "    with request.state.db.begin():\n",
        "        for name, age in zip(name_column, age_column):\n",
        "            request.state.db.execute(users.insert().values(name=name, age=age))\n",
        "\n",
        "    return {\"status\": \"Data saved successfully\"}"
      ],
      "metadata": {
        "id": "ALgkMMhF6vml"
      },
      "execution_count": null,
      "outputs": []
    },
    {
      "cell_type": "code",
      "source": [
        "<!-- templates/index.html -->\n",
        "\n",
        "<!DOCTYPE html>\n",
        "<html>\n",
        "<head>\n",
        "    <title>CSV File Upload</title>\n",
        "</head>\n",
        "<body>\n",
        "    <form action=\"/uploadfile/\" method=\"post\" enctype=\"multipart/form-data\">\n",
        "        <label for=\"file\">Choose a CSV file:</label>\n",
        "        <input type=\"file\" name=\"file\" accept=\".csv\" required>\n",
        "        <br>\n",
        "        <label for=\"name_row\">Select Name column:</label>\n",
        "        <input type=\"number\" name=\"name_row\" required>\n",
        "        <br>\n",
        "        <label for=\"age_row\">Select Age column:</label>\n",
        "        <input type=\"number\" name=\"age_row\" required>\n",
        "        <br>\n",
        "        <button type=\"submit\">Submit</button>\n",
        "    </form>\n",
        "</body>\n",
        "</html>\n"
      ],
      "metadata": {
        "id": "7hkgiu9B61ue"
      },
      "execution_count": null,
      "outputs": []
    }
  ]
}